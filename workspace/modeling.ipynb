{
 "cells": [
  {
   "cell_type": "code",
   "execution_count": 10,
   "metadata": {},
   "outputs": [],
   "source": [
    "from __future__ import print_function\n",
    "from __future__ import absolute_import\n",
    "\n",
    "%matplotlib inline\n",
    "\n",
    "import numpy\n",
    "import matplotlib.pyplot as plt\n",
    "import pandas as pd"
   ]
  },
  {
   "cell_type": "markdown",
   "metadata": {},
   "source": [
    "# Modeling Exercise\n",
    "\n",
    "This exercise is designed to both help you to learn `git` and `github` as well as some concepts from modeling that will be important.  If you need some ideas take a look at the [course notes](http://github.com/mandli/intro-numerical-methods)."
   ]
  },
  {
   "cell_type": "markdown",
   "metadata": {},
   "source": [
    "## Reading Data -- demo\n",
    "\n",
    "Take the data you read in from `get_hydro_data.ipynb` and write a function that read in the stream flow data and precip and returns the data"
   ]
  },
  {
   "cell_type": "code",
   "execution_count": 12,
   "metadata": {},
   "outputs": [
    {
     "name": "stdout",
     "output_type": "stream",
     "text": [
      "                       dateTime  X_00060_00000\n",
      "0     2017-08-01 05:00:00+00:00           3.01\n",
      "1     2017-08-01 05:15:00+00:00           2.99\n",
      "2     2017-08-01 05:30:00+00:00           3.06\n",
      "3     2017-08-01 05:45:00+00:00           3.03\n",
      "4     2017-08-01 06:00:00+00:00           3.04\n",
      "5     2017-08-01 06:15:00+00:00           3.01\n",
      "6     2017-08-01 06:30:00+00:00           3.07\n",
      "7     2017-08-01 06:45:00+00:00           3.04\n",
      "8     2017-08-01 07:00:00+00:00           3.06\n",
      "9     2017-08-01 07:15:00+00:00           3.06\n",
      "10    2017-08-01 07:30:00+00:00           3.09\n",
      "11    2017-08-01 07:35:00+00:00           3.05\n",
      "12    2017-08-01 07:40:00+00:00           3.05\n",
      "13    2017-08-01 07:45:00+00:00           3.04\n",
      "14    2017-08-01 08:00:00+00:00           3.09\n",
      "15    2017-08-01 08:05:00+00:00           3.06\n",
      "16    2017-08-01 08:15:00+00:00           3.07\n",
      "17    2017-08-01 08:25:00+00:00           3.03\n",
      "18    2017-08-01 08:30:00+00:00           3.06\n",
      "19    2017-08-01 08:35:00+00:00           3.03\n",
      "20    2017-08-01 08:40:00+00:00           3.06\n",
      "21    2017-08-01 08:45:00+00:00           3.08\n",
      "22    2017-08-01 08:50:00+00:00           3.05\n",
      "23    2017-08-01 08:55:00+00:00           3.06\n",
      "24    2017-08-01 09:00:00+00:00           3.05\n",
      "25    2017-08-01 09:15:00+00:00           3.03\n",
      "26    2017-08-01 09:20:00+00:00           3.04\n",
      "27    2017-08-01 09:30:00+00:00           3.07\n",
      "28    2017-08-01 09:40:00+00:00           3.03\n",
      "29    2017-08-01 09:45:00+00:00           3.03\n",
      "...                         ...            ...\n",
      "71739 2018-12-02 03:30:00+00:00           4.57\n",
      "71740 2018-12-02 03:35:00+00:00           4.54\n",
      "71741 2018-12-02 03:40:00+00:00           4.63\n",
      "71742 2018-12-02 03:45:00+00:00           4.63\n",
      "71743 2018-12-02 03:50:00+00:00           4.63\n",
      "71744 2018-12-02 03:55:00+00:00           4.71\n",
      "71745 2018-12-02 04:00:00+00:00           4.86\n",
      "71746 2018-12-02 04:05:00+00:00           4.69\n",
      "71747 2018-12-02 04:10:00+00:00           4.84\n",
      "71748 2018-12-02 04:15:00+00:00           4.82\n",
      "71749 2018-12-02 04:20:00+00:00           4.81\n",
      "71750 2018-12-02 04:25:00+00:00           4.80\n",
      "71751 2018-12-02 04:30:00+00:00           4.90\n",
      "71752 2018-12-02 04:35:00+00:00           4.82\n",
      "71753 2018-12-02 04:40:00+00:00           5.04\n",
      "71754 2018-12-02 04:45:00+00:00           4.94\n",
      "71755 2018-12-02 04:50:00+00:00           4.89\n",
      "71756 2018-12-02 04:55:00+00:00           4.93\n",
      "71757 2018-12-02 05:00:00+00:00           5.04\n",
      "71758 2018-12-02 05:05:00+00:00           4.98\n",
      "71759 2018-12-02 05:10:00+00:00           5.04\n",
      "71760 2018-12-02 05:15:00+00:00           5.15\n",
      "71761 2018-12-02 05:20:00+00:00           5.07\n",
      "71762 2018-12-02 05:25:00+00:00           5.10\n",
      "71763 2018-12-02 05:30:00+00:00           5.17\n",
      "71764 2018-12-02 05:35:00+00:00           5.30\n",
      "71765 2018-12-02 05:40:00+00:00           5.29\n",
      "71766 2018-12-02 05:45:00+00:00           5.22\n",
      "71767 2018-12-02 05:50:00+00:00           5.24\n",
      "71768 2018-12-02 05:55:00+00:00           5.29\n",
      "\n",
      "[71769 rows x 2 columns]\n"
     ]
    }
   ],
   "source": [
    "import datetime\n",
    "\n",
    "def read_streamflow_data(path):\n",
    "    \n",
    "    return pd.read_csv(path,header=0,\n",
    "                          usecols=['dateTime','X_00060_00000'],\n",
    "                          parse_dates=['dateTime'],\n",
    "                          dtype={'X_00060_00000':float},)\n",
    "                          \n",
    "    \n",
    "data=read_streamflow_data(\"temp_data/streamflow_data.csv\")\n",
    "print(data)"
   ]
  },
  {
   "cell_type": "markdown",
   "metadata": {},
   "source": [
    "## Plot the Data\n",
    "\n",
    "Now write a function that plots the data you read in from above."
   ]
  },
  {
   "cell_type": "code",
   "execution_count": 9,
   "metadata": {},
   "outputs": [],
   "source": [
    "def plot_streamflow_data(x, y):\n",
    "    plt.plot(x,y,'.')\n",
    "    \n",
    "    \n",
    "    pass\n"
   ]
  },
  {
   "cell_type": "markdown",
   "metadata": {},
   "source": [
    "## Make a Model\n",
    "\n",
    "Write a function that takes the data from above and fits a curve to it.  Justify your approach to this problem as well."
   ]
  },
  {
   "cell_type": "markdown",
   "metadata": {},
   "source": []
  },
  {
   "cell_type": "code",
   "execution_count": null,
   "metadata": {},
   "outputs": [],
   "source": [
    "def fit_streamflow_data(x, y):\n",
    "    \"\"\"\"\"\"\n",
    "    \n",
    "    pass"
   ]
  },
  {
   "cell_type": "markdown",
   "metadata": {},
   "source": [
    "## Pull It All Together\n",
    "\n",
    "Use all three functions above and make a prediction where there is no data.  Think about where your prediction may be valid or invalid.  Make sure to mention this in your `doc-string`."
   ]
  },
  {
   "cell_type": "code",
   "execution_count": null,
   "metadata": {},
   "outputs": [],
   "source": [
    "def streamflow_prediction(x, y):\n",
    "    \"\"\"\"\"\"\n",
    "    \n",
    "    pass"
   ]
  }
 ],
 "metadata": {
  "kernelspec": {
   "display_name": "Python 3",
   "language": "python",
   "name": "python3"
  },
  "language_info": {
   "codemirror_mode": {
    "name": "ipython",
    "version": 3
   },
   "file_extension": ".py",
   "mimetype": "text/x-python",
   "name": "python",
   "nbconvert_exporter": "python",
   "pygments_lexer": "ipython3",
   "version": "3.7.3"
  }
 },
 "nbformat": 4,
 "nbformat_minor": 2
}
