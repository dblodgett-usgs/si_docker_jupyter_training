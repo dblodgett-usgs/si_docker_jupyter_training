{
 "cells": [
  {
   "cell_type": "code",
   "execution_count": 25,
   "metadata": {},
   "outputs": [],
   "source": [
    "from __future__ import print_function\n",
    "from __future__ import absolute_import\n",
    "\n",
    "%matplotlib inline\n",
    "\n",
    "import pandas as pd\n",
    "import numpy\n",
    "import matplotlib.pyplot as plt"
   ]
  },
  {
   "cell_type": "markdown",
   "metadata": {},
   "source": [
    "# Modeling Exercise\n",
    "\n",
    "This exercise is designed to both help you to learn `git` and `github` as well as some concepts from modeling that will be important.  If you need some ideas take a look at the [course notes](http://github.com/mandli/intro-numerical-methods)."
   ]
  },
  {
   "cell_type": "markdown",
   "metadata": {},
   "source": [
    "## Reading Data -- demo\n",
    "\n",
    "Take the data you read in from `get_hydro_data.ipynb` and write a function that read in the stream flow data and precip and returns the data"
   ]
  },
  {
   "cell_type": "code",
   "execution_count": 47,
   "metadata": {},
   "outputs": [
    {
     "name": "stdout",
     "output_type": "stream",
     "text": [
      "                      dateTime  X_00060_00000\n",
      "0    2017-03-01 05:00:00+00:00         5290.0\n",
      "1    2017-03-01 05:15:00+00:00         5340.0\n",
      "2    2017-03-01 05:30:00+00:00         5250.0\n",
      "3    2017-03-01 05:45:00+00:00         5090.0\n",
      "4    2017-03-01 06:00:00+00:00         5340.0\n",
      "5    2017-03-01 06:15:00+00:00         5170.0\n",
      "6    2017-03-01 06:30:00+00:00         5380.0\n",
      "7    2017-03-01 06:45:00+00:00         5290.0\n",
      "8    2017-03-01 07:00:00+00:00         5370.0\n",
      "9    2017-03-01 07:15:00+00:00         5410.0\n",
      "10   2017-03-01 07:30:00+00:00         5330.0\n",
      "11   2017-03-01 07:45:00+00:00         5370.0\n",
      "12   2017-03-01 08:00:00+00:00         5120.0\n",
      "13   2017-03-01 08:15:00+00:00         5400.0\n",
      "14   2017-03-01 08:30:00+00:00         5240.0\n",
      "15   2017-03-01 08:45:00+00:00         5200.0\n",
      "16   2017-03-01 09:00:00+00:00         5230.0\n",
      "17   2017-03-01 09:15:00+00:00         5400.0\n",
      "18   2017-03-01 09:30:00+00:00         5320.0\n",
      "19   2017-03-01 09:45:00+00:00         5230.0\n",
      "20   2017-03-01 10:00:00+00:00         5190.0\n",
      "21   2017-03-01 10:15:00+00:00         5270.0\n",
      "22   2017-03-01 10:30:00+00:00         5100.0\n",
      "23   2017-03-01 10:45:00+00:00         5180.0\n",
      "24   2017-03-01 11:00:00+00:00         5220.0\n",
      "25   2017-03-01 11:15:00+00:00         5340.0\n",
      "26   2017-03-01 11:30:00+00:00         5170.0\n",
      "27   2017-03-01 11:45:00+00:00         5210.0\n",
      "28   2017-03-01 12:00:00+00:00         5090.0\n",
      "29   2017-03-01 12:15:00+00:00         5120.0\n",
      "...                        ...            ...\n",
      "2405 2017-03-31 21:30:00+00:00         6270.0\n",
      "2406 2017-03-31 21:45:00+00:00         6270.0\n",
      "2407 2017-03-31 22:00:00+00:00         6300.0\n",
      "2408 2017-03-31 22:15:00+00:00         6360.0\n",
      "2409 2017-03-31 22:30:00+00:00         6310.0\n",
      "2410 2017-03-31 22:45:00+00:00         6310.0\n",
      "2411 2017-03-31 23:00:00+00:00         6380.0\n",
      "2412 2017-03-31 23:15:00+00:00         6480.0\n",
      "2413 2017-03-31 23:30:00+00:00         6480.0\n",
      "2414 2017-03-31 23:45:00+00:00         6910.0\n",
      "2415 2017-04-01 00:00:00+00:00         7030.0\n",
      "2416 2017-04-01 00:15:00+00:00         6910.0\n",
      "2417 2017-04-01 00:30:00+00:00         6900.0\n",
      "2418 2017-04-01 00:45:00+00:00         6920.0\n",
      "2419 2017-04-01 01:00:00+00:00         7040.0\n",
      "2420 2017-04-01 01:15:00+00:00         6970.0\n",
      "2421 2017-04-01 01:30:00+00:00         7120.0\n",
      "2422 2017-04-01 01:45:00+00:00         7010.0\n",
      "2423 2017-04-01 02:00:00+00:00         7040.0\n",
      "2424 2017-04-01 02:15:00+00:00         7140.0\n",
      "2425 2017-04-01 02:30:00+00:00         7110.0\n",
      "2426 2017-04-01 02:45:00+00:00         7200.0\n",
      "2427 2017-04-01 03:00:00+00:00         7150.0\n",
      "2428 2017-04-01 03:15:00+00:00         7560.0\n",
      "2429 2017-04-01 03:30:00+00:00         7600.0\n",
      "2430 2017-04-01 03:45:00+00:00         7560.0\n",
      "2431 2017-04-01 04:00:00+00:00         7620.0\n",
      "2432 2017-04-01 04:15:00+00:00         7620.0\n",
      "2433 2017-04-01 04:30:00+00:00         7680.0\n",
      "2434 2017-04-01 04:45:00+00:00         7690.0\n",
      "\n",
      "[2435 rows x 2 columns]\n"
     ]
    }
   ],
   "source": [
    "def read_streamflow_data(path):\n",
    "    data = pd.read_csv(path, header = 0,\n",
    "                      usecols = ['dateTime', 'X_00060_00000'],\n",
    "                      parse_dates = ['dateTime'],\n",
    "                      dtype = {'X_00060_00000':float}, )\n",
    "    return data\n",
    "\n",
    "df = read_streamflow_data(\"./temp_data/streamflow_data.csv\")\n",
    "print(df)"
   ]
  },
  {
   "cell_type": "markdown",
   "metadata": {},
   "source": [
    "## Plot the Data\n",
    "\n",
    "Now write a function that plots the data you read in from above."
   ]
  },
  {
   "cell_type": "code",
   "execution_count": 48,
   "metadata": {},
   "outputs": [
    {
     "data": {
      "text/plain": [
       "[<matplotlib.lines.Line2D at 0x7fc6a9914dd8>]"
      ]
     },
     "execution_count": 48,
     "metadata": {},
     "output_type": "execute_result"
    },
    {
     "data": {
      "image/png": "[encoded data removed]",
      "text/plain": [
       "<Figure size 432x288 with 1 Axes>"
      ]
     },
     "metadata": {
      "needs_background": "light"
     },
     "output_type": "display_data"
    }
   ],
   "source": [
    "#def plot_streamflow_data(x, y):\n",
    "    \n",
    "    \n",
    "    #pass\n",
    "\n",
    "plt.plot(df.values[:, 0], df.values[:, 1], \".\")"
   ]
  },
  {
   "cell_type": "markdown",
   "metadata": {},
   "source": [
    "## Make a Model\n",
    "\n",
    "Write a function that takes the data from above and fits a curve to it.  Justify your approach to this problem as well."
   ]
  },
  {
   "cell_type": "markdown",
   "metadata": {},
   "source": []
  },
  {
   "cell_type": "code",
   "execution_count": null,
   "metadata": {},
   "outputs": [],
   "source": [
    "def fit_streamflow_data(x, y):\n",
    "    \"\"\"\"\"\"\n",
    "    \n",
    "    pass"
   ]
  },
  {
   "cell_type": "markdown",
   "metadata": {},
   "source": [
    "## Pull It All Together\n",
    "\n",
    "Use all three functions above and make a prediction where there is no data.  Think about where your prediction may be valid or invalid.  Make sure to mention this in your `doc-string`."
   ]
  },
  {
   "cell_type": "code",
   "execution_count": null,
   "metadata": {},
   "outputs": [],
   "source": [
    "def streamflow_prediction(x, y):\n",
    "    \"\"\"\"\"\"\n",
    "    \n",
    "    pass"
   ]
  }
 ],
 "metadata": {
  "kernelspec": {
   "display_name": "Python 3",
   "language": "python",
   "name": "python3"
  },
  "language_info": {
   "codemirror_mode": {
    "name": "ipython",
    "version": 3.0
   },
   "file_extension": ".py",
   "mimetype": "text/x-python",
   "name": "python",
   "nbconvert_exporter": "python",
   "pygments_lexer": "ipython3",
   "version": "3.7.3"
  }
 },
 "nbformat": 4,
 "nbformat_minor": 0
}